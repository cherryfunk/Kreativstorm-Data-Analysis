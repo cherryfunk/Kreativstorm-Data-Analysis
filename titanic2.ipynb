{
 "cells": [
  {
   "cell_type": "code",
   "execution_count": 8,
   "metadata": {},
   "outputs": [
    {
     "name": "stdout",
     "output_type": "stream",
     "text": [
      "     0.0           2.0           1.0\n",
      "0.0  NaN           NaN           NaN\n",
      "2.0  NaN  1.000000e+00  1.012455e-48\n",
      "1.0  NaN  1.012455e-48  1.000000e+00\n"
     ]
    }
   ],
   "source": [
    "import pandas as pd\n",
    "import scikit_posthocs as sp\n",
    "import pyreadstat\n",
    "\n",
    "# Step 1: Load the SPSS data and convert it to a DataFrame (replace 'your_file_path.sav' with your actual file path)\n",
    "input_file = 'Titanic_2_SPSS.sav'\n",
    "df, meta = pyreadstat.read_sav(input_file)\n",
    "\n",
    "# Step 2: Ensure that the 'Residence' and 'fare' columns are present and clean the data\n",
    "df_clean = df[['Residence', 'fare']].dropna()\n",
    "\n",
    "# Step 3: Group the data by 'Residence' and collect the fare values for each nationality (Residence)\n",
    "residences = df_clean['Residence'].unique()\n",
    "fare_groups = [df_clean[df_clean['Residence'] == residence]['fare'] for residence in residences]\n",
    "\n",
    "# Step 4: Perform Dunn's test for pairwise comparisons with Bonferroni correction\n",
    "dunn_test_result = sp.posthoc_dunn(fare_groups, p_adjust='bonferroni')\n",
    "\n",
    "# Step 5: Convert the result into a DataFrame for better readability\n",
    "dunn_test_result_df = pd.DataFrame(dunn_test_result, columns=residences, index=residences)\n",
    "\n",
    "# Step 6: Display the results\n",
    "print(dunn_test_result_df)\n",
    "\n"
   ]
  },
  {
   "cell_type": "code",
   "execution_count": 6,
   "metadata": {},
   "outputs": [
    {
     "ename": "NameError",
     "evalue": "name 'fare_groups' is not defined",
     "output_type": "error",
     "traceback": [
      "\u001b[0;31m---------------------------------------------------------------------------\u001b[0m",
      "\u001b[0;31mNameError\u001b[0m                                 Traceback (most recent call last)",
      "Cell \u001b[0;32mIn[6], line 5\u001b[0m\n\u001b[1;32m      2\u001b[0m \u001b[38;5;28;01mimport\u001b[39;00m \u001b[38;5;21;01mpandas\u001b[39;00m \u001b[38;5;28;01mas\u001b[39;00m \u001b[38;5;21;01mpd\u001b[39;00m\n\u001b[1;32m      4\u001b[0m \u001b[38;5;66;03m# Assuming 'fare_groups' contains the fare data for each nationality group\u001b[39;00m\n\u001b[0;32m----> 5\u001b[0m dunn_test_result \u001b[38;5;241m=\u001b[39m sp\u001b[38;5;241m.\u001b[39mposthoc_dunn(\u001b[43mfare_groups\u001b[49m, p_adjust\u001b[38;5;241m=\u001b[39m\u001b[38;5;124m'\u001b[39m\u001b[38;5;124mbonferroni\u001b[39m\u001b[38;5;124m'\u001b[39m)\n\u001b[1;32m      7\u001b[0m \u001b[38;5;66;03m# Display the results\u001b[39;00m\n\u001b[1;32m      8\u001b[0m dunn_test_result_df \u001b[38;5;241m=\u001b[39m pd\u001b[38;5;241m.\u001b[39mDataFrame(dunn_test_result, columns\u001b[38;5;241m=\u001b[39mresidences, index\u001b[38;5;241m=\u001b[39mresidences)\n",
      "\u001b[0;31mNameError\u001b[0m: name 'fare_groups' is not defined"
     ]
    }
   ],
   "source": [
    "import scikit_posthocs as sp\n",
    "import pandas as pd\n",
    "\n",
    "# Assuming 'fare_groups' contains the fare data for each nationality group\n",
    "dunn_test_result = sp.posthoc_dunn(fare_groups, p_adjust='bonferroni')\n",
    "\n",
    "# Display the results\n",
    "dunn_test_result_df = pd.DataFrame(dunn_test_result, columns=residences, index=residences)\n",
    "print(dunn_test_result_df)\n"
   ]
  },
  {
   "cell_type": "code",
   "execution_count": null,
   "metadata": {},
   "outputs": [],
   "source": []
  }
 ],
 "metadata": {
  "kernelspec": {
   "display_name": ".venv",
   "language": "python",
   "name": "python3"
  },
  "language_info": {
   "codemirror_mode": {
    "name": "ipython",
    "version": 3
   },
   "file_extension": ".py",
   "mimetype": "text/x-python",
   "name": "python",
   "nbconvert_exporter": "python",
   "pygments_lexer": "ipython3",
   "version": "3.12.5"
  }
 },
 "nbformat": 4,
 "nbformat_minor": 2
}
