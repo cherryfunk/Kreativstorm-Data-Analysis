{
 "cells": [
  {
   "cell_type": "code",
   "execution_count": 31,
   "metadata": {},
   "outputs": [],
   "source": [
    "import pandas as pd\n",
    "import matplotlib.pyplot as plt\n",
    "import scipy.stats as stats"
   ]
  },
  {
   "cell_type": "code",
   "execution_count": 32,
   "metadata": {},
   "outputs": [
    {
     "name": "stdout",
     "output_type": "stream",
     "text": [
      "     ID  Length  Birthweight  Headcirc  Gestation  smoker  mage  mnocig  \\\n",
      "0  1360      56         4.55        34         44       0    20       0   \n",
      "1  1016      53         4.32        36         40       0    19       0   \n",
      "2   462      58         4.10        39         41       0    35       0   \n",
      "3  1187      53         4.07        38         44       0    20       0   \n",
      "4   553      54         3.94        37         42       0    24       0   \n",
      "\n",
      "   mheight  mppwt  fage  fedyrs  fnocig  fheight  lowbwt  mage35  \n",
      "0      162     57    23      10      35      179       0       0  \n",
      "1      171     62    19      12       0      183       0       0  \n",
      "2      172     58    31      16      25      185       0       1  \n",
      "3      174     68    26      14      25      189       0       0  \n",
      "4      175     66    30      12       0      184       0       0  \n"
     ]
    }
   ],
   "source": [
    "\n",
    "# Load the dataset from a CSV file\n",
    "df = pd.read_csv('Birthweight_reduced_kg_R.csv')\n",
    "\n",
    "# Clean the column names by removing extra spaces\n",
    "df.columns = df.columns.str.strip()\n",
    "\n",
    "# Displays the first 5 rows\n",
    "print(df.head())  "
   ]
  },
  {
   "cell_type": "code",
   "execution_count": 12,
   "metadata": {},
   "outputs": [
    {
     "name": "stdout",
     "output_type": "stream",
     "text": [
      "Mean birth weight for non-smoking mothers: 3.51 kg\n"
     ]
    }
   ],
   "source": [
    "## Q1. What is the mean birth weight for babies of non-smoking mothers?\n",
    "\n",
    "# Filter for non-smoking mothers (smoker == 0)\n",
    "non_smokers_df = df[df['smoker'] == 0]\n",
    "\n",
    "# Calculate the mean birth weight for non-smoking mothers\n",
    "mean_birthweight_non_smokers = non_smokers_df['Birthweight'].mean()\n",
    "\n",
    "# Print the result\n",
    "print(f\"Mean birth weight for non-smoking mothers: {mean_birthweight_non_smokers:.2f} kg\")"
   ]
  },
  {
   "cell_type": "code",
   "execution_count": 13,
   "metadata": {},
   "outputs": [
    {
     "name": "stdout",
     "output_type": "stream",
     "text": [
      "Mean birth weight for smoking mothers: 3.13 kg\n"
     ]
    }
   ],
   "source": [
    "## Q2. What is the mean birth weight for babies of smoking mothers?\n",
    "\n",
    "# Filter the dataset for smoking mothers (smoker == 1)\n",
    "smokers_df = df[df['smoker'] == 1]\n",
    "\n",
    "# Calculate the mean birth weight for babies of smoking mothers\n",
    "mean_birthweight_smokers = smokers_df['Birthweight'].mean()\n",
    "\n",
    "# Print the result\n",
    "print(f\"Mean birth weight for smoking mothers: {mean_birthweight_smokers:.2f} kg\")"
   ]
  },
  {
   "cell_type": "code",
   "execution_count": 14,
   "metadata": {},
   "outputs": [
    {
     "name": "stdout",
     "output_type": "stream",
     "text": [
      "Mean head circumference for non-smoking mothers: 35.05 cm\n"
     ]
    }
   ],
   "source": [
    "## Q3. What is the mean head circumference for babies of non-smoking mothers?\n",
    "\n",
    "# Filter the dataset for non-smoking mothers (smoker == 0)\n",
    "non_smokers_df = df[df['smoker'] == 0]\n",
    "\n",
    "# Calculate the mean head circumference for babies of non-smoking mothers\n",
    "mean_headcirc_non_smokers = non_smokers_df['Headcirc'].mean()\n",
    "\n",
    "# Print the result\n",
    "print(f\"Mean head circumference for non-smoking mothers: {mean_headcirc_non_smokers:.2f} cm\")"
   ]
  },
  {
   "cell_type": "code",
   "execution_count": 18,
   "metadata": {},
   "outputs": [
    {
     "name": "stdout",
     "output_type": "stream",
     "text": [
      "Mean gestational age for smoking mothers: 38.95 weeks\n"
     ]
    }
   ],
   "source": [
    "## Q4. What is the mean gestational age at birth for babies of smoking mothers?\n",
    "\n",
    "# Filter the dataset for smoking mothers (smoker == 1)\n",
    "smokers_df = df[df['smoker'] == 1]\n",
    "\n",
    "# Calculate the mean gestational age for babies of smoking mothers\n",
    "mean_gestation_smokers = smokers_df['Gestation'].mean()\n",
    "\n",
    "# Print the result\n",
    "print(f\"Mean gestational age for smoking mothers: {mean_gestation_smokers:.2f} weeks\")"
   ]
  },
  {
   "cell_type": "code",
   "execution_count": 19,
   "metadata": {},
   "outputs": [
    {
     "name": "stdout",
     "output_type": "stream",
     "text": [
      "Maximum head circumference for non-smoking mothers: 39.00 cm\n"
     ]
    }
   ],
   "source": [
    "## Q5. What is the maximum head circumference for babies of non-smoking mothers?\n",
    "\n",
    "# Filter the dataset for non-smoking mothers (smoker == 0)\n",
    "non_smokers_df = df[df['smoker'] == 0]\n",
    "\n",
    "# Find the maximum head circumference for babies of non-smoking mothers\n",
    "max_headcirc_non_smokers = non_smokers_df['Headcirc'].max()\n",
    "\n",
    "# Print the result\n",
    "print(f\"Maximum head circumference for non-smoking mothers: {max_headcirc_non_smokers:.2f} cm\")"
   ]
  },
  {
   "cell_type": "code",
   "execution_count": 20,
   "metadata": {},
   "outputs": [
    {
     "name": "stdout",
     "output_type": "stream",
     "text": [
      "Minimum gestational age for smoking mothers: 33.00 weeks\n"
     ]
    }
   ],
   "source": [
    "## Q6. What is the minimum gestational age at birth for babies of smoking mothers?\n",
    "\n",
    "# Filter the dataset for smoking mothers (smoker == 1)\n",
    "smokers_df = df[df['smoker'] == 1]\n",
    "\n",
    "# Find the minimum gestational age for babies of smoking mothers\n",
    "min_gestation_smokers = smokers_df['Gestation'].min()\n",
    "\n",
    "# Print the result\n",
    "print(f\"Minimum gestational age for smoking mothers: {min_gestation_smokers:.2f} weeks\")"
   ]
  },
  {
   "cell_type": "code",
   "execution_count": 26,
   "metadata": {},
   "outputs": [
    {
     "name": "stdout",
     "output_type": "stream",
     "text": [
      "Mean gestational age for non-smoking mothers: 39.45 weeks\n",
      "Mean gestational age for smoking mothers: 38.95 weeks\n"
     ]
    }
   ],
   "source": [
    "## Q7. Based on the dataset you have, out of the two, which one would be a better bet: \"Pregnancy period in smoking mothers is shorter\" or \"Pregnancy period in non-smoking mothers is shorter\"?\n",
    "\n",
    "# Calculate the mean gestational age for smoking and non-smoking mothers\n",
    "mean_gestation_smokers = smokers_df['Gestation'].mean()\n",
    "mean_gestation_non_smokers = non_smokers_df['Gestation'].mean()\n",
    "\n",
    "# Print both results for comparison\n",
    "print(f\"Mean gestational age for non-smoking mothers: {mean_gestation_non_smokers:.2f} weeks\")\n",
    "print(f\"Mean gestational age for smoking mothers: {mean_gestation_smokers:.2f} weeks\")"
   ]
  },
  {
   "cell_type": "code",
   "execution_count": 27,
   "metadata": {},
   "outputs": [
    {
     "name": "stdout",
     "output_type": "stream",
     "text": [
      "Thus, the pregnancy period is slightly shorter for smoking mothers compared to non-smoking mothers.\n",
      "Therefore, the statement \"Pregnancy period in smoking mothers is shorter\" would be the better bet based on this dataset.\n"
     ]
    }
   ],
   "source": [
    "## Q8. Justify the above choice in a few words.\n",
    "\n",
    "# Print the conclusion\n",
    "print(\"Thus, the pregnancy period is slightly shorter for smoking mothers compared to non-smoking mothers.\\nTherefore, the statement \\\"Pregnancy period in smoking mothers is shorter\\\" would be the better bet based on this dataset.\")"
   ]
  },
  {
   "cell_type": "code",
   "execution_count": 28,
   "metadata": {},
   "outputs": [
    {
     "name": "stdout",
     "output_type": "stream",
     "text": [
      "The birth weight range for babies of smoking mothers is 2.65 kg\n"
     ]
    }
   ],
   "source": [
    "## Q9. What is the baby birth weight range for babies of smoking mothers?\n",
    "\n",
    "# Calculate the minimum and maximum birth weight for babies of smoking mothers\n",
    "min_birthweight_smokers = smokers_df['Birthweight'].min()\n",
    "max_birthweight_smokers = smokers_df['Birthweight'].max()\n",
    "\n",
    "# Calculate the range by subtracting the minimum from the maximum\n",
    "birthweight_range_smokers = max_birthweight_smokers - min_birthweight_smokers\n",
    "\n",
    "# Print the result\n",
    "print(f\"The birth weight range for babies of smoking mothers is {birthweight_range_smokers:.2f} kg\")"
   ]
  },
  {
   "cell_type": "code",
   "execution_count": 30,
   "metadata": {},
   "outputs": [
    {
     "name": "stdout",
     "output_type": "stream",
     "text": [
      "Birth weight range for smoking mothers: 2.65 kg\n",
      "Birth weight range for non-smoking mothers: 1.90 kg\n",
      "\n",
      "Interpretation:\n",
      "\n",
      "The larger birth weight range for babies of smoking mothers (2.65 kg) compared to non-smoking mothers (1.90 kg) \n",
      "suggests that there is more variation in the birth weights of babies born to smoking mothers. \n",
      "This could indicate that smoking has a broader impact on birth weight, potentially causing greater deviations \n",
      "from the norm (both lower and higher weights).\n",
      "\n",
      "In contrast, the birth weights of babies born to non-smoking mothers tend to be more consistent and within a \n",
      "narrower range, suggesting less variability and a more stable environment for fetal development.\n",
      "\n",
      "This implies that smoking may contribute to greater uncertainty and potential risk in terms of birth weight outcomes.\n",
      "\n"
     ]
    }
   ],
   "source": [
    "# Calculate the minimum and maximum birth weight for babies of non-smoking mothers\n",
    "min_birthweight_non_smokers = non_smokers_df['Birthweight'].min()\n",
    "max_birthweight_non_smokers = non_smokers_df['Birthweight'].max()\n",
    "\n",
    "# Calculate the range by subtracting the minimum from the maximum for non-smoking mothers\n",
    "birthweight_range_non_smokers = max_birthweight_non_smokers - min_birthweight_non_smokers\n",
    "\n",
    "# Print both ranges for comparison\n",
    "print(f\"Birth weight range for smoking mothers: {birthweight_range_smokers:.2f} kg\")\n",
    "print(f\"Birth weight range for non-smoking mothers: {birthweight_range_non_smokers:.2f} kg\")\n",
    "\n",
    "interpretation = \"\"\"\n",
    "Interpretation:\n",
    "\n",
    "The larger birth weight range for babies of smoking mothers (2.65 kg) compared to non-smoking mothers (1.90 kg) \n",
    "suggests that there is more variation in the birth weights of babies born to smoking mothers. \n",
    "This could indicate that smoking has a broader impact on birth weight, potentially causing greater deviations \n",
    "from the norm (both lower and higher weights).\n",
    "\n",
    "In contrast, the birth weights of babies born to non-smoking mothers tend to be more consistent and within a \n",
    "narrower range, suggesting less variability and a more stable environment for fetal development.\n",
    "\n",
    "This implies that smoking may contribute to greater uncertainty and potential risk in terms of birth weight outcomes.\n",
    "\"\"\"\n",
    "\n",
    "print(interpretation)\n"
   ]
  },
  {
   "cell_type": "code",
   "execution_count": 42,
   "metadata": {},
   "outputs": [
    {
     "data": {
      "image/png": "[encoded data removed]",
      "text/plain": [
       "<Figure size 640x480 with 1 Axes>"
      ]
     },
     "metadata": {},
     "output_type": "display_data"
    },
    {
     "data": {
      "image/png": "[encoded data removed]",
      "text/plain": [
       "<Figure size 640x480 with 1 Axes>"
      ]
     },
     "metadata": {},
     "output_type": "display_data"
    },
    {
     "name": "stdout",
     "output_type": "stream",
     "text": [
      "Shapiro-Wilk Test: Statistic=0.9536524912705777, p-value=0.3723887280098232\n",
      "Kolmogorov-Smirnov Test: Statistic=0.12794970964847235, p-value=0.8201647421911691\n",
      "\n",
      "Explanation:\n",
      "\n",
      "    1. Histogram: A bell-shaped histogram indicates that the data may follow a normal distribution. \n",
      "    \n",
      "        In this case, the histogram shows that most of the data points cluster around the mean, with a shape resembling the normal distribution curve.\n",
      "\n",
      "    2. Q-Q Plot: The Q-Q (quantile-quantile) plot compares the quantiles of the sample data to the quantiles of a standard normal distribution. \n",
      "    \n",
      "        If the data points align closely to the diagonal reference line, the data is likely normally distributed. \n",
      "\n",
      "        In our case, the data points in the Q-Q plot fall closely along the straight line, providing visual evidence that the data may be normally distributed.\n",
      "\n",
      "    3. Shapiro-Wilk Test: The Shapiro-Wilk test is a formal statistical test used to assess the normality of the data. \n",
      "\n",
      "        It computes a test statistic and a p-value. If the p-value is greater than 0.05, the null hypothesis (that the data is normally distributed) cannot be rejected. \n",
      "\n",
      "        In our case, the Shapiro-Wilk test returned a p-value of 0.372, which is greater than 0.05, meaning that the data can be considered normally distributed.\n",
      "\n",
      "    4. Kolmogorov-Smirnov (K-S) Test: The Kolmogorov-Smirnov test compares the empirical distribution of the data to a reference distribution (in this case, the normal distribution). \n",
      "        \n",
      "        Similar to the Shapiro-Wilk test, it calculates a test statistic and p-value. A p-value greater than 0.05 suggests that the sample distribution does not differ significantly from the reference distribution. \n",
      "\n",
      "        In our analysis, the K-S test returned a p-value of 0.820, which is well above the 0.05 threshold, indicating no significant deviation from normality.\n",
      "\n",
      "Interpretation:\n",
      "\n",
      "Since the p-value in both the Shapiro-Wilk test (0.372) and the Kolmogorov-Smirnov test (0.820) is greater than the common significance level of 0.05, we fail to reject the null hypothesis. This means that the head circumference data for babies of smoking mothers can be considered normally distributed.\n",
      "\n",
      "Additionally, the histogram and Q-Q plot visually support this conclusion, as the data appears to follow a normal distribution. Thus, both visual and statistical tests confirm that the data is consistent with a normal distribution.\n",
      "\n"
     ]
    }
   ],
   "source": [
    "## Q11. Are head circumference data for babies of smoking mothers normally distributed?\n",
    "\n",
    "# Filter the dataset for smoking mothers\n",
    "smokers_df = df[df['smoker'] == 1]\n",
    "\n",
    "# Extract head circumference data for smoking mothers\n",
    "headcirc_smokers = smokers_df['Headcirc']\n",
    "\n",
    "# 1. Visual Check: Plot histogram and Q-Q plot\n",
    "\n",
    "# Histogram\n",
    "plt.hist(headcirc_smokers, bins=10, edgecolor='k', alpha=0.7)\n",
    "plt.title('Histogram of Head Circumference for Smoking Mothers')\n",
    "plt.xlabel('Head Circumference (cm)')\n",
    "plt.ylabel('Frequency')\n",
    "plt.show()\n",
    "\n",
    "# Q-Q Plot\n",
    "stats.probplot(headcirc_smokers, dist=\"norm\", plot=plt)\n",
    "plt.title('Q-Q Plot of Head Circumference for Smoking Mothers')\n",
    "plt.show()\n",
    "\n",
    "# 2. Statistical Tests\n",
    "\n",
    "# Shapiro-Wilk Test\n",
    "shapiro_test = stats.shapiro(headcirc_smokers)\n",
    "print(f'Shapiro-Wilk Test: Statistic={shapiro_test.statistic}, p-value={shapiro_test.pvalue}')\n",
    "\n",
    "# Kolmogorov-Smirnov test comparing headcirc_smokers to a normal distribution\n",
    "ks_test = stats.kstest(headcirc_smokers, 'norm', args=(headcirc_smokers.mean(), headcirc_smokers.std()))\n",
    "print(f'Kolmogorov-Smirnov Test: Statistic={ks_test.statistic}, p-value={ks_test.pvalue}')\n",
    "\n",
    "interpretation = \"\"\"\n",
    "Explanation:\n",
    "\n",
    "    1. Histogram: A bell-shaped histogram indicates that the data may follow a normal distribution. \n",
    "    \n",
    "        In this case, the histogram shows that most of the data points cluster around the mean, with a shape resembling the normal distribution curve.\n",
    "\n",
    "    2. Q-Q Plot: The Q-Q (quantile-quantile) plot compares the quantiles of the sample data to the quantiles of a standard normal distribution. \n",
    "    \n",
    "        If the data points align closely to the diagonal reference line, the data is likely normally distributed. \\n\n",
    "        In our case, the data points in the Q-Q plot fall closely along the straight line, providing visual evidence that the data may be normally distributed.\n",
    "\n",
    "    3. Shapiro-Wilk Test: The Shapiro-Wilk test is a formal statistical test used to assess the normality of the data. \n",
    "\n",
    "        It computes a test statistic and a p-value. If the p-value is greater than 0.05, the null hypothesis (that the data is normally distributed) cannot be rejected. \\n\n",
    "        In our case, the Shapiro-Wilk test returned a p-value of 0.372, which is greater than 0.05, meaning that the data can be considered normally distributed.\n",
    "\n",
    "    4. Kolmogorov-Smirnov (K-S) Test: The Kolmogorov-Smirnov test compares the empirical distribution of the data to a reference distribution (in this case, the normal distribution). \n",
    "        \n",
    "        Similar to the Shapiro-Wilk test, it calculates a test statistic and p-value. A p-value greater than 0.05 suggests that the sample distribution does not differ significantly from the reference distribution. \\n\n",
    "        In our analysis, the K-S test returned a p-value of 0.820, which is well above the 0.05 threshold, indicating no significant deviation from normality.\n",
    "\n",
    "Interpretation:\n",
    "\n",
    "Since the p-value in both the Shapiro-Wilk test (0.372) and the Kolmogorov-Smirnov test (0.820) is greater than the common significance level of 0.05, we fail to reject the null hypothesis. This means that the head circumference data for babies of smoking mothers can be considered normally distributed.\n",
    "\n",
    "Additionally, the histogram and Q-Q plot visually support this conclusion, as the data appears to follow a normal distribution. Thus, both visual and statistical tests confirm that the data is consistent with a normal distribution.\n",
    "\"\"\"\n",
    "print(interpretation)"
   ]
  },
  {
   "cell_type": "code",
   "execution_count": null,
   "metadata": {},
   "outputs": [],
   "source": []
  }
 ],
 "metadata": {
  "kernelspec": {
   "display_name": ".venv",
   "language": "python",
   "name": "python3"
  },
  "language_info": {
   "codemirror_mode": {
    "name": "ipython",
    "version": 3
   },
   "file_extension": ".py",
   "mimetype": "text/x-python",
   "name": "python",
   "nbconvert_exporter": "python",
   "pygments_lexer": "ipython3",
   "version": "3.12.5"
  }
 },
 "nbformat": 4,
 "nbformat_minor": 2
}
