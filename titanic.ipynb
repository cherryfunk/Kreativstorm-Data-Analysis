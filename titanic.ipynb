{
 "cells": [
  {
   "cell_type": "code",
   "execution_count": 1,
   "metadata": {},
   "outputs": [],
   "source": [
    "import pandas as pd\n",
    "import matplotlib.pyplot as plt\n",
    "import scipy.stats as stats"
   ]
  },
  {
   "cell_type": "code",
   "execution_count": 2,
   "metadata": {},
   "outputs": [
    {
     "name": "stdout",
     "output_type": "stream",
     "text": [
      "   pclass  survived  Residence                              name age  sibsp  \\\n",
      "0       3         0          0               Abbing, Mr. Anthony  42      0   \n",
      "1       3         0          0     Abbott, Master. Eugene Joseph  13      0   \n",
      "2       3         0          0       Abbott, Mr. Rossmore Edward  16      1   \n",
      "3       3         1          0  Abbott, Mrs. Stanton (Rosa Hunt)  35      1   \n",
      "4       3         1          2       Abelseth, Miss. Karen Marie  16      0   \n",
      "\n",
      "   parch     ticket   fare cabin embarked boat body               home.dest  \\\n",
      "0      0  C.A. 5547   7.55              S                                     \n",
      "1      2  C.A. 2673  20.25              S               East Providence, RI   \n",
      "2      1  C.A. 2673  20.25              S       190     East Providence, RI   \n",
      "3      1  C.A. 2673  20.25              S    A          East Providence, RI   \n",
      "4      0     348125   7.65              S   16       Norway Los Angeles, CA   \n",
      "\n",
      "   Gender  \n",
      "0       0  \n",
      "1       0  \n",
      "2       0  \n",
      "3       1  \n",
      "4       1  \n"
     ]
    }
   ],
   "source": [
    "# Load the dataset from a CSV file\n",
    "df = pd.read_csv('Titanic_R.csv')\n",
    "\n",
    "# Clean the column names by removing extra spaces\n",
    "df.columns = df.columns.str.strip()\n",
    "\n",
    "# Displays the first 5 rows\n",
    "print(df.head())  "
   ]
  },
  {
   "cell_type": "code",
   "execution_count": 22,
   "metadata": {},
   "outputs": [
    {
     "name": "stdout",
     "output_type": "stream",
     "text": [
      "The average fare for first class passengers is:, 87.51\n"
     ]
    }
   ],
   "source": [
    "## Q1. What is the average price paid for a ticket in the first class?\n",
    "\n",
    "df['fare'] = pd.to_numeric(df['fare'], errors='coerce')\n",
    "\n",
    "# Filter for non-smoking mothers (smoker == 0)\n",
    "first_class_passengers = df[df['pclass'] == 1]\n",
    "\n",
    "# Calculate the mean birth weight for non-smoking mothers\n",
    "average_fare_first_class = first_class_passengers['fare'].mean()\n",
    "\n",
    "# Print the result\n",
    "print(f\"The average fare for first class passengers is:, {average_fare_first_class:.2f}\")"
   ]
  },
  {
   "cell_type": "code",
   "execution_count": 12,
   "metadata": {},
   "outputs": [
    {
     "name": "stdout",
     "output_type": "stream",
     "text": [
      "The average fare for second class passengers is:, 21.18\n"
     ]
    }
   ],
   "source": [
    "## Q2. What is the average price paid for a ticket in the second class?\n",
    "\n",
    "df['fare'] = pd.to_numeric(df['fare'], errors='coerce')\n",
    "\n",
    "# Filter for non-smoking mothers (smoker == 0)\n",
    "second_class_passengers = df[df['pclass'] == 2]\n",
    "\n",
    "# Calculate the mean birth weight for non-smoking mothers\n",
    "average_fare_second_class = first_class_passengers['fare'].mean()\n",
    "\n",
    "# Print the result\n",
    "print(f\"The average fare for second class passengers is:, {average_fare_second_class:.2f}\")"
   ]
  },
  {
   "cell_type": "code",
   "execution_count": 13,
   "metadata": {},
   "outputs": [
    {
     "name": "stdout",
     "output_type": "stream",
     "text": [
      "The average fare for third class passengers is:, 13.30\n"
     ]
    }
   ],
   "source": [
    "## Q3. What is the average price paid for a ticket in the third class?\n",
    "\n",
    "\n",
    "df['fare'] = pd.to_numeric(df['fare'], errors='coerce')\n",
    "\n",
    "# Filter for non-smoking mothers (smoker == 0)\n",
    "third_class_passengers = df[df['pclass'] == 3]\n",
    "\n",
    "# Calculate the mean birth weight for non-smoking mothers\n",
    "average_fare_third_class = third_class_passengers['fare'].mean()\n",
    "\n",
    "# Print the result\n",
    "print(f\"The average fare for third class passengers is:, {average_fare_third_class:.2f}\")"
   ]
  },
  {
   "cell_type": "code",
   "execution_count": 15,
   "metadata": {},
   "outputs": [
    {
     "name": "stdout",
     "output_type": "stream",
     "text": [
      "The average price paid by women for a first-class ticket is: 109.41\n"
     ]
    }
   ],
   "source": [
    "## Q4. What is the average price paid by women for a ticket in the first class?\n",
    "\n",
    "df['fare'] = pd.to_numeric(df['fare'], errors='coerce')\n",
    "\n",
    "average_fare_women_first_class = df[(df['pclass'] == 1) & (df['Gender'] == 1)]['fare'].mean()\n",
    "\n",
    "print(f\"The average price paid by women for a first-class ticket is: {average_fare_women_first_class:.2f}\")\n"
   ]
  },
  {
   "cell_type": "code",
   "execution_count": 23,
   "metadata": {},
   "outputs": [
    {
     "name": "stderr",
     "output_type": "stream",
     "text": [
      "/var/folders/sm/400j8tq92td1q3xnyf79q2hh0000gn/T/ipykernel_26286/1649390401.py:3: UserWarning: Boolean Series key will be reindexed to match DataFrame index.\n",
      "  average_fare_women_first_class = first_class_passengers[ df['Gender'] == 1 ]['fare'].mean()\n"
     ]
    },
    {
     "data": {
      "text/plain": [
       "np.float64(109.41238472222221)"
      ]
     },
     "execution_count": 23,
     "metadata": {},
     "output_type": "execute_result"
    }
   ],
   "source": [
    "df['fare'] = pd.to_numeric(df['fare'], errors='coerce')\n",
    "\n",
    "average_fare_women_first_class = first_class_passengers[ df['Gender'] == 1 ]['fare'].mean()\n",
    "\n",
    "average_fare_women_first_class"
   ]
  },
  {
   "cell_type": "code",
   "execution_count": 24,
   "metadata": {},
   "outputs": [
    {
     "name": "stdout",
     "output_type": "stream",
     "text": [
      "The average price paid by women for a first-class ticket is: 12.42\n"
     ]
    }
   ],
   "source": [
    "## Q5. What is the average price paid by men for a ticket in the third class?\n",
    "\n",
    "df['fare'] = pd.to_numeric(df['fare'], errors='coerce')\n",
    "\n",
    "average_fare_men_third_class = df[(df['pclass'] == 3) & (df['Gender'] == 0)]['fare'].mean()\n",
    "\n",
    "print(f\"The average price paid by women for a first-class ticket is: {average_fare_men_third_class:.2f}\")"
   ]
  },
  {
   "cell_type": "code",
   "execution_count": 25,
   "metadata": {},
   "outputs": [
    {
     "name": "stdout",
     "output_type": "stream",
     "text": [
      "Average fare paid by women in first class: 109.41\n",
      "Average fare paid by men in first class: 69.89\n",
      "Women paid more for first-class tickets on average.\n"
     ]
    }
   ],
   "source": [
    "## Q6. Who paid more for first class tickets on average, men or women?\n",
    "\n",
    "df['fare'] = pd.to_numeric(df['fare'], errors='coerce')\n",
    "\n",
    "first_class_passengers = df[df['pclass'] == 1]\n",
    "\n",
    "average_fare_women_first_class = first_class_passengers[first_class_passengers['Gender'] == 1]['fare'].mean()\n",
    "\n",
    "average_fare_men_first_class = first_class_passengers[first_class_passengers['Gender'] == 0]['fare'].mean()\n",
    "\n",
    "print(f\"Average fare paid by women in first class: {average_fare_women_first_class:.2f}\")\n",
    "print(f\"Average fare paid by men in first class: {average_fare_men_first_class:.2f}\")\n",
    "\n",
    "if average_fare_women_first_class > average_fare_men_first_class:\n",
    "    print(\"Women paid more for first-class tickets on average.\")\n",
    "elif average_fare_women_first_class < average_fare_men_first_class:\n",
    "    print(\"Men paid more for first-class tickets on average.\")\n",
    "else:\n",
    "    print(\"Men and women paid the same on average for first-class tickets.\")"
   ]
  },
  {
   "cell_type": "code",
   "execution_count": 26,
   "metadata": {},
   "outputs": [
    {
     "name": "stdout",
     "output_type": "stream",
     "text": [
      "Average fare paid by American passengers in second class: 17.16\n",
      "Average fare paid by British passengers in second class: 22.58\n",
      "British passengers paid more for second-class tickets on average.\n"
     ]
    }
   ],
   "source": [
    "## Q7. Who paid more for second class tickets on average, American or British passengers?\n",
    "\n",
    "df['fare'] = pd.to_numeric(df['fare'], errors='coerce')\n",
    "\n",
    "second_class_passengers = df[df['pclass'] == 2]\n",
    "\n",
    "amrican_pessengers = second_class_passengers[second_class_passengers['Residence'] == 0]\n",
    "british_pessengers = second_class_passengers[second_class_passengers['Residence'] == 1]\n",
    "\n",
    "average_fare_amrican_second_class = amrican_pessengers['fare'].mean()\n",
    "average_fare_british_second_class = british_pessengers['fare'].mean()\n",
    "\n",
    "print(f\"Average fare paid by American passengers in second class: {average_fare_amrican_second_class:.2f}\")\n",
    "print(f\"Average fare paid by British passengers in second class: {average_fare_british_second_class:.2f}\")\n",
    "\n",
    "if average_fare_amrican_second_class > average_fare_british_second_class:\n",
    "    print(\"American passengers paid more for second-class tickets on average.\")\n",
    "elif average_fare_amrican_second_class < average_fare_british_second_class:\n",
    "    print(\"British passengers paid more for second-class tickets on average.\")\n",
    "else:\n",
    "    print(\"American and British passengers paid the same on average for second-class tickets.\")"
   ]
  },
  {
   "cell_type": "code",
   "execution_count": 27,
   "metadata": {},
   "outputs": [
    {
     "name": "stdout",
     "output_type": "stream",
     "text": [
      "There were 749 passengers on board with home residence neither American nor British.\n"
     ]
    }
   ],
   "source": [
    "## Q8. How many people were on board with home residence neither American nor British?\n",
    "\n",
    "non_american_british_passengers = df[df['Residence'] == 2]\n",
    "\n",
    "non_american_british_count = non_american_british_passengers.shape[0]\n",
    "\n",
    "print(f\"There were {non_american_british_count} passengers on board with home residence neither American nor British.\")"
   ]
  },
  {
   "cell_type": "code",
   "execution_count": 28,
   "metadata": {},
   "outputs": [
    {
     "name": "stdout",
     "output_type": "stream",
     "text": [
      "The average age of all men on board: 30.59\n",
      "The average age of men in third class: 25.96\n"
     ]
    }
   ],
   "source": [
    "## Q9. On average, how old were men on board? What about men on board with third class tickets?\n",
    "\n",
    "df['age'] = pd.to_numeric(df['age'], errors='coerce')\n",
    "\n",
    "average_age_men = df[df['Gender'] == 0]['age'].mean()\n",
    "\n",
    "average_age_men_third_class = df[(df['Gender'] == 0) & (df['pclass'] == 3)]['age'].mean()\n",
    "\n",
    "print(f\"The average age of all men on board: {average_age_men:.2f}\")\n",
    "print(f\"The average age of men in third class: {average_age_men_third_class:.2f}\")"
   ]
  },
  {
   "cell_type": "code",
   "execution_count": 29,
   "metadata": {},
   "outputs": [
    {
     "name": "stdout",
     "output_type": "stream",
     "text": [
      "The average age of first-class passengers: 39.16\n",
      "The average age of second-class passengers: 29.51\n",
      "The average age of third-class passengers: 24.82\n",
      "Third-class passengers were the youngest.\n"
     ]
    }
   ],
   "source": [
    "## Q10. Which group was the youngest, first-, second-, or third-class?\n",
    "\n",
    "average_age_first_class = df[df['pclass'] == 1]['age'].mean()\n",
    "average_age_second_class = df[df['pclass'] == 2]['age'].mean()\n",
    "average_age_third_class = df[df['pclass'] == 3]['age'].mean()\n",
    "\n",
    "print(f\"The average age of first-class passengers: {average_age_first_class:.2f}\")\n",
    "print(f\"The average age of second-class passengers: {average_age_second_class:.2f}\")\n",
    "print(f\"The average age of third-class passengers: {average_age_third_class:.2f}\")\n",
    "\n",
    "if average_age_first_class < average_age_second_class and average_age_first_class < average_age_third_class:\n",
    "    print(\"First-class passengers were the youngest.\")\n",
    "elif average_age_second_class < average_age_first_class and average_age_second_class < average_age_third_class:\n",
    "    print(\"Second-class passengers were the youngest.\")\n",
    "elif average_age_third_class < average_age_first_class and average_age_third_class < average_age_second_class:\n",
    "    print(\"Third-class passengers were the youngest.\")\n",
    "else:\n",
    "    print(\"There was a tie between two or more groups.\")"
   ]
  },
  {
   "cell_type": "code",
   "execution_count": 37,
   "metadata": {},
   "outputs": [
    {
     "name": "stdout",
     "output_type": "stream",
     "text": [
      "The average family size in second class is: 1.76\n"
     ]
    }
   ],
   "source": [
    "## Q11. What is the average family size in the second class if you know that the data contains only the main passenger name?\n",
    "\n",
    "second_class_passengers = df[df['pclass'] == 2].copy()\n",
    "\n",
    "# Calculate the average family size\n",
    "second_class_passengers.loc[:, 'family_size'] = second_class_passengers['sibsp'] + second_class_passengers['parch'] + 1\n",
    "average_family_size_second_class = second_class_passengers['family_size'].mean()\n",
    "\n",
    "print(f\"The average family size in second class is: {average_family_size_second_class:.2f}\")"
   ]
  },
  {
   "cell_type": "code",
   "execution_count": 38,
   "metadata": {},
   "outputs": [
    {
     "name": "stdout",
     "output_type": "stream",
     "text": [
      "The ticket group with the largest family on board was class 3 with an average family size of 1.97.\n"
     ]
    }
   ],
   "source": [
    "## Q12. On average, which ticket group had the largest family on board?\n",
    "\n",
    "df['family_size'] = df['sibsp'] + df['parch'] + 1\n",
    "\n",
    "average_family_size_by_class = df.groupby('pclass')['family_size'].mean()\n",
    "\n",
    "largest_family_class = average_family_size_by_class.idxmax()\n",
    "largest_family_size = average_family_size_by_class.max()\n",
    "\n",
    "print(f\"The ticket group with the largest family on board was class {largest_family_class} with an average family size of {largest_family_size:.2f}.\")"
   ]
  }
 ],
 "metadata": {
  "kernelspec": {
   "display_name": ".venv",
   "language": "python",
   "name": "python3"
  },
  "language_info": {
   "codemirror_mode": {
    "name": "ipython",
    "version": 3
   },
   "file_extension": ".py",
   "mimetype": "text/x-python",
   "name": "python",
   "nbconvert_exporter": "python",
   "pygments_lexer": "ipython3",
   "version": "3.12.5"
  }
 },
 "nbformat": 4,
 "nbformat_minor": 2
}
