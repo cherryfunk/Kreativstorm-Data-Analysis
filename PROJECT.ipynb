{
 "cells": [
  {
   "cell_type": "code",
   "execution_count": 1,
   "metadata": {},
   "outputs": [
    {
     "name": "stdout",
     "output_type": "stream",
     "text": [
      "   casenew    weighta     P550tpr  P344pr          P425r A172  \\\n",
      "0    14999   2.834724  380.695762  465.36  Earned income  Yes   \n",
      "1    14993  10.077947  546.413403  855.26  Earned income  Yes   \n",
      "2    14993   4.088676  242.189023  160.96  Earned income  Yes   \n",
      "3    14984   4.571760  421.382353  656.22  Earned income  Yes   \n",
      "4    14981   7.349617  370.405577  398.80  Earned income  Yes   \n",
      "\n",
      "                   A093r                                              A094r  \\\n",
      "0  Economically inactive                     Routine and manual occupations   \n",
      "1      Full-time working  Never worked and long term unemployed, student...   \n",
      "2      Full-time working                           Intermediate occupations   \n",
      "3      Full-time working                     Routine and manual occupations   \n",
      "4      Full-time working  Never worked and long term unemployed, student...   \n",
      "\n",
      "           A121r  SexHRP     A049r     G018r                 G019r  \\\n",
      "0  Public rented  Female  4 person  2 adults  Two or more children   \n",
      "1          Owned  Female  2 person  2 adults           No children   \n",
      "2          Owned  Female  1 person   1 adult           No children   \n",
      "3          Owned    Male  2 person  2 adults           No children   \n",
      "4          Owned    Male  1 person   1 adult           No children   \n",
      "\n",
      "            Gorx  weightar   maininc      income  expenditure  hhsize  \n",
      "0  East Midlands  0.543248  earnings  465.359985   380.695770       4  \n",
      "1         London  1.931344  earnings  855.260010   546.413391       2  \n",
      "2     South East  0.783557  earnings  160.960007   242.189026       1  \n",
      "3        Eastern  0.876135  earnings  656.219971   421.382355       2  \n",
      "4     South East  1.408485  earnings  398.799988   370.405579       1  \n"
     ]
    }
   ],
   "source": [
    "import pandas as pd\n",
    "\n",
    "# Path to the Stata file\n",
    "file_path = 'LCF.dta'\n",
    "\n",
    "# Load the Stata file into a DataFrame\n",
    "df = pd.read_stata(file_path)\n",
    "\n",
    "# Display the first few rows to verify\n",
    "print(df.head())"
   ]
  }
 ],
 "metadata": {
  "kernelspec": {
   "display_name": ".venv",
   "language": "python",
   "name": "python3"
  },
  "language_info": {
   "codemirror_mode": {
    "name": "ipython",
    "version": 3
   },
   "file_extension": ".py",
   "mimetype": "text/x-python",
   "name": "python",
   "nbconvert_exporter": "python",
   "pygments_lexer": "ipython3",
   "version": "3.12.5"
  }
 },
 "nbformat": 4,
 "nbformat_minor": 2
}
