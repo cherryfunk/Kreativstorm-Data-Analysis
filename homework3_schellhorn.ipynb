{
 "cells": [
  {
   "cell_type": "markdown",
   "metadata": {},
   "source": [
    "### Q1. In your own words, describe what a residual is in linear regression.\n",
    "\n",
    "In linear regression, a **residual** is the difference between the observed value of the dependent variable and the value predicted by the regression model. It represents the error or discrepancy between the actual data point and the prediction made by the model. Mathematically, it's calculated as:\n",
    "\n",
    "$$\n",
    "\\text{Residual} = \\text{Observed value} - \\text{Predicted value}\n",
    "$$\n",
    "\n",
    "Residuals are crucial in assessing how well the regression model fits the data. Ideally, residuals should be randomly scattered with no apparent pattern, indicating that the model's errors are distributed evenly across all observations, a condition known as **homoscedasticity**."
   ]
  },
  {
   "cell_type": "markdown",
   "metadata": {},
   "source": [
    "### Q2. If you know that your residual data follow the below pattern, are your data better approximated with a linear model for the lower values of independent variable or higher values of independent variable and why?\n",
    "\n",
    "The pattern in the residual plot indicates **heteroscedasticity**, where the spread of residuals increases as the values of the independent variable increase. This means that the linear model performs better for the **lower values of the independent variable**, as the residuals are more tightly clustered around zero in this region.\n",
    "\n",
    "For higher values of the independent variable, the spread of residuals increases, meaning the predictions become less accurate and the linear model is not fitting the data as well. This is why the data is better approximated by a linear model for lower values of the independent variable."
   ]
  },
  {
   "cell_type": "markdown",
   "metadata": {},
   "source": [
    "### Q3. What is the difference between R2 and adjusted R2?\n",
    "\n",
    "**R²** (R-squared) represents the proportion of the variance in the dependent variable that is explained by the independent variable(s) in the model. It gives a measure of how well the regression predictions fit the actual data, but it can increase as more variables are added to the model, even if those variables do not have a real explanatory power.\n",
    "\n",
    "**Adjusted R²** adjusts for the number of predictors in the model. It compensates for the potential inflation of R² by penalizing the addition of non-significant predictors. Adjusted R² will increase only if the added variable improves the model more than would be expected by chance; otherwise, it decreases. Thus, adjusted R² provides a more accurate measure of model fit, especially for multiple regression models."
   ]
  },
  {
   "cell_type": "markdown",
   "metadata": {},
   "source": [
    "### Q4. Is there independence of observations if you are trying to predict baby length with mother’s height?\n",
    "\n",
    "The **independence of observations** assumption refers to the idea that the data points (observations) should not influence each other. In this case, we are trying to predict baby length based on the mother's height. Since each row in the dataset represents a unique baby and their corresponding mother, the data points are independent of each other.\n",
    "\n",
    "Thus, the answer is:\n",
    "\n",
    "**Yes** – the observations are independent."
   ]
  },
  {
   "cell_type": "markdown",
   "metadata": {},
   "source": [
    "### Q5. Justify the above answer.\n",
    "\n",
    "Each observation in the dataset corresponds to a different mother-baby pair, meaning that no two rows are related or depend on each other. Therefore, there is no reason to believe that the length of one baby would be influenced by the height of another mother. This independence between observations satisfies the assumption of independent data in regression analysis."
   ]
  },
  {
   "cell_type": "markdown",
   "metadata": {},
   "source": [
    "### Q6. Do residual data show homoscedasticity?\n",
    "\n",
    "**No**, the residuals do not show homoscedasticity."
   ]
  },
  {
   "cell_type": "markdown",
   "metadata": {},
   "source": [
    "### Q7. Justify the above answer.\n",
    "\n",
    "In the residual plot, we observe that the spread of the residuals is not consistent across the predicted values. Instead, there is a visible pattern where the residuals are more spread out for certain predicted values and closer to zero for others. This lack of uniform scatter indicates **heteroscedasticity**, meaning that the variability of the residuals is not constant, and thus the assumption of homoscedasticity is violated."
   ]
  },
  {
   "cell_type": "code",
   "execution_count": 3,
   "metadata": {},
   "outputs": [
    {
     "data": {
      "image/png": "[encoded data removed]",
      "text/plain": [
       "<Figure size 800x600 with 1 Axes>"
      ]
     },
     "metadata": {},
     "output_type": "display_data"
    }
   ],
   "source": [
    "import pandas as pd\n",
    "import matplotlib.pyplot as plt\n",
    "import seaborn as sns\n",
    "from sklearn.linear_model import LinearRegression\n",
    "\n",
    "# Load the dataset\n",
    "file_path = 'Birthweight_reduced_kg_R.csv'\n",
    "df = pd.read_csv(file_path)\n",
    "\n",
    "# Cleaning the column names by stripping spaces\n",
    "df.columns = df.columns.str.strip()\n",
    "\n",
    "# Extract the relevant columns: Length (dependent variable) and mheight (independent variable)\n",
    "X = df[['mheight']]\n",
    "y = df['Length']\n",
    "\n",
    "# Fit the linear regression model\n",
    "model = LinearRegression()\n",
    "model.fit(X, y)\n",
    "\n",
    "# Predict values and calculate residuals\n",
    "y_pred = model.predict(X)\n",
    "residuals = y - y_pred\n",
    "\n",
    "# Plot residuals to check for homoscedasticity\n",
    "plt.figure(figsize=(8, 6))\n",
    "sns.scatterplot(x=y_pred, y=residuals)\n",
    "plt.axhline(0, color='red', linestyle='--')\n",
    "plt.title('Residuals vs. Predicted Values')\n",
    "plt.xlabel('Predicted Values')\n",
    "plt.ylabel('Residuals')\n",
    "plt.show()"
   ]
  },
  {
   "cell_type": "markdown",
   "metadata": {},
   "source": [
    "### Q8. What is the value of R² and what does this tell you?\n",
    "\n",
    "The value of **R²** is **0.235**.\n",
    "\n",
    "This tells us that approximately **23.5%** of the variance in the baby’s length can be explained by the mother’s height in this linear regression model. This is a relatively low R² value, indicating that the mother’s height alone does not explain a large portion of the variability in baby length. There may be other factors contributing to the baby’s length that are not captured by this model."
   ]
  },
  {
   "cell_type": "code",
   "execution_count": 4,
   "metadata": {},
   "outputs": [
    {
     "name": "stdout",
     "output_type": "stream",
     "text": [
      "0.23521763061139123\n"
     ]
    }
   ],
   "source": [
    "# Calculate R-squared value\n",
    "r_squared = model.score(X, y)\n",
    "\n",
    "# Display the R-squared value\n",
    "print(r_squared)"
   ]
  },
  {
   "cell_type": "markdown",
   "metadata": {},
   "source": [
    "### Q9. Can you consider the relationship between mother’s height and baby length a statistically significant linear relationship and why?\n",
    "\n",
    "Yes, the relationship between mother’s height and baby length can be considered **statistically significant**.\n",
    "\n",
    "The p-value associated with the mother’s height coefficient is **0.001**, which is less than the common significance threshold of 0.05. This means that there is strong evidence to reject the null hypothesis, indicating that there is a statistically significant linear relationship between mother’s height and baby length."
   ]
  },
  {
   "cell_type": "code",
   "execution_count": 5,
   "metadata": {},
   "outputs": [
    {
     "name": "stdout",
     "output_type": "stream",
     "text": [
      "                            OLS Regression Results                            \n",
      "==============================================================================\n",
      "Dep. Variable:                 Length   R-squared:                       0.235\n",
      "Model:                            OLS   Adj. R-squared:                  0.216\n",
      "Method:                 Least Squares   F-statistic:                     12.30\n",
      "Date:                Sun, 22 Sep 2024   Prob (F-statistic):            0.00113\n",
      "Time:                        16:10:59   Log-Likelihood:                -98.689\n",
      "No. Observations:                  42   AIC:                             201.4\n",
      "Df Residuals:                      40   BIC:                             204.9\n",
      "Df Model:                           1                                         \n",
      "Covariance Type:            nonrobust                                         \n",
      "==============================================================================\n",
      "                 coef    std err          t      P>|t|      [0.025      0.975]\n",
      "------------------------------------------------------------------------------\n",
      "const         15.3342     10.271      1.493      0.143      -5.425      36.093\n",
      "mheight        0.2189      0.062      3.507      0.001       0.093       0.345\n",
      "==============================================================================\n",
      "Omnibus:                        0.736   Durbin-Watson:                   1.724\n",
      "Prob(Omnibus):                  0.692   Jarque-Bera (JB):                0.358\n",
      "Skew:                          -0.224   Prob(JB):                        0.836\n",
      "Kurtosis:                       3.059   Cond. No.                     4.22e+03\n",
      "==============================================================================\n",
      "\n",
      "Notes:\n",
      "[1] Standard Errors assume that the covariance matrix of the errors is correctly specified.\n",
      "[2] The condition number is large, 4.22e+03. This might indicate that there are\n",
      "strong multicollinearity or other numerical problems.\n"
     ]
    }
   ],
   "source": [
    "import statsmodels.api as sm\n",
    "\n",
    "# Add a constant (intercept) to the model\n",
    "X_with_constant = sm.add_constant(X)\n",
    "\n",
    "# Fit the model using statsmodels\n",
    "model_sm = sm.OLS(y, X_with_constant).fit()\n",
    "\n",
    "# Print the summary to check for p-values and statistical significance\n",
    "print(model_sm.summary())"
   ]
  },
  {
   "cell_type": "markdown",
   "metadata": {},
   "source": [
    "### Q10. Having the ANOVA table for the linear regression in mind, what is the null and alternative hypothesis in this case?\n",
    "\n",
    "The F-statistic from the ANOVA table is **12.30** with a p-value of **0.0011**.\n",
    "\n",
    "- **Null Hypothesis (H₀)**: There is **no linear relationship** between the mother’s height and the baby’s length. In other words, the slope of the regression line is equal to zero.\n",
    "- **Alternative Hypothesis (H₁)**: There **is a linear relationship** between the mother’s height and the baby’s length. In other words, the slope of the regression line is not equal to zero."
   ]
  },
  {
   "cell_type": "code",
   "execution_count": 6,
   "metadata": {},
   "outputs": [
    {
     "data": {
      "text/plain": [
       "(np.float64(12.30246093666783), np.float64(0.0011331311458135675))"
      ]
     },
     "execution_count": 6,
     "metadata": {},
     "output_type": "execute_result"
    }
   ],
   "source": [
    "# Extracting F-statistic and p-value from the fitted model\n",
    "anova_f_stat = model_sm.fvalue\n",
    "anova_p_value = model_sm.f_pvalue\n",
    "\n",
    "anova_f_stat, anova_p_value"
   ]
  },
  {
   "cell_type": "markdown",
   "metadata": {},
   "source": [
    "### Q11. In your own words, describe what the b₁ is.\n",
    "\n",
    "In linear regression, **b₁** represents the **slope** of the regression line. It indicates how much the dependent variable (in this case, the baby’s length) is expected to change for every one-unit increase in the independent variable (the mother’s height). Essentially, b₁ quantifies the strength and direction of the relationship between the two variables. A positive b₁ suggests that as the mother’s height increases, the baby’s length also increases, whereas a negative b₁ would indicate the opposite."
   ]
  },
  {
   "cell_type": "markdown",
   "metadata": {},
   "source": [
    "### Q12. What does the value of b₁ tell you in practical terms?\n",
    "\n",
    "The value of **b₁** is **0.219**.\n",
    "\n",
    "This means that for every 1 cm increase in the mother’s height, the baby’s length is expected to increase by approximately **0.219 cm**. In practical terms, this indicates a positive relationship between mother’s height and baby length: taller mothers tend to have longer babies, but the effect size is relatively small, with each additional centimeter of maternal height contributing a fraction of a centimeter to the baby’s length.P"
   ]
  },
  {
   "cell_type": "code",
   "execution_count": 7,
   "metadata": {},
   "outputs": [
    {
     "name": "stdout",
     "output_type": "stream",
     "text": [
      "0.21890315052508624\n"
     ]
    }
   ],
   "source": [
    "# Extract the b1 (slope coefficient) from the statsmodels output\n",
    "b1 = model_sm.params['mheight']\n",
    "print(b1)"
   ]
  },
  {
   "cell_type": "markdown",
   "metadata": {},
   "source": [
    "### Q13. Could you claim the same for the mother’s height in the range between 140cm and 145cm and why?\n",
    "\n",
    "It would be difficult to confidently claim the same relationship for the mother’s height in the range between 140 cm and 145 cm without analyzing the data specifically for that range. \n",
    "\n",
    "The linear regression model assumes a constant relationship between variables across all values of the independent variable (mother's height in this case). However, if there is limited data within this height range or if the data behaves differently in this region, the linear assumption may not hold. Additionally, the small range (140-145 cm) may not be well-represented in the dataset, making predictions for this subset potentially less reliable."
   ]
  },
  {
   "cell_type": "markdown",
   "metadata": {},
   "source": [
    "### Q14. According to this model, what is the prediction of baby length for a mother’s height of 170 cm?\n",
    "\n",
    "The predicted baby length for a mother with a height of **170 cm** is approximately **52.55 cm**."
   ]
  },
  {
   "cell_type": "code",
   "execution_count": 8,
   "metadata": {},
   "outputs": [
    {
     "name": "stdout",
     "output_type": "stream",
     "text": [
      "52.54772462077005\n"
     ]
    }
   ],
   "source": [
    "# Use the model to predict baby length for a mother's height of 170 cm\n",
    "mother_height_170 = 170\n",
    "baby_length_prediction = model_sm.predict([1, mother_height_170])\n",
    "\n",
    "# Display the predicted baby length\n",
    "print(baby_length_prediction[0])"
   ]
  },
  {
   "cell_type": "markdown",
   "metadata": {},
   "source": [
    "### Q15. Report on your findings for predicting baby length with mother’s height\n",
    "\n",
    "The linear regression model was used to predict baby length based on the mother's height. The analysis revealed the following key findings:\n",
    "\n",
    "- The **R²** value of the model is **0.235**, meaning that approximately **23.5%** of the variability in baby length can be explained by the mother's height. This indicates that while mother's height has a positive relationship with baby length, other factors likely contribute more significantly to predicting baby length.\n",
    "  \n",
    "- The relationship between mother's height and baby length is statistically significant, with a **p-value of 0.001**. This suggests that the model's slope, which represents the effect of mother’s height on baby length, is not due to random chance.\n",
    "\n",
    "- The **b₁ coefficient** (slope) is **0.219**, meaning that for every additional 1 cm increase in mother's height, the baby’s length is expected to increase by approximately **0.219 cm**.\n",
    "\n",
    "- However, it is important to note that the model may not be equally reliable across all ranges of mother's height. For example, the prediction accuracy for mothers with heights between **140 cm and 145 cm** would require more detailed analysis, as the model’s generalizability in this range may be limited by the data.\n",
    "\n",
    "- For a mother with a height of **170 cm**, the predicted baby length is **52.55 cm**, based on the linear regression model.\n",
    "\n",
    "In summary, while mother's height is a statistically significant predictor of baby length, the relatively low R² value suggests that other factors should also be considered to improve prediction accuracy."
   ]
  },
  {
   "cell_type": "markdown",
   "metadata": {},
   "source": [
    "### Q16. Can you predict baby length with father’s age? Why?\n",
    "\n",
    "To determine whether we can predict baby length based on the father’s age, we would first need to examine the data and assess the relationship between these two variables. A linear regression model could be used to quantify this relationship.\n",
    "\n",
    "However, based on general biological reasoning, **father’s age is unlikely to have a direct, strong linear relationship with baby length**. While parental height or other genetic factors may influence baby length, age alone does not provide a meaningful predictor. If father’s age had a significant influence, it would likely be reflected in other factors (e.g., health or lifestyle), but age itself is not expected to be a key driver of baby length.\n",
    "\n",
    "Thus, while technically possible to create a regression model with father’s age, the relationship is not likely to be statistically significant or practically useful for prediction."
   ]
  },
  {
   "cell_type": "markdown",
   "metadata": {},
   "source": [
    "### Q17. What does homogeneity of variance mean and why is it an important assumption of an independent t-test?\n",
    "\n",
    "**Homogeneity of variance** means that the variability (or spread) of scores is roughly the same across all groups being compared. In other words, the distribution of the dependent variable should have similar variances in both groups involved in the t-test.\n",
    "\n",
    "This assumption is important for the **independent t-test** because the test compares the means of two groups and assumes that these groups come from populations with equal variances. If the variances are not equal, the results of the t-test may be misleading or incorrect. Specifically, the t-test's ability to accurately calculate the test statistic and p-value is compromised, potentially leading to incorrect conclusions about the significance of the difference between groups.\n",
    "\n",
    "When the homogeneity of variance assumption is violated, a modified version of the t-test (like Welch's t-test) should be used to provide more accurate results."
   ]
  },
  {
   "cell_type": "markdown",
   "metadata": {},
   "source": [
    "### Q18. Is there homogeneity of variance between head circumference for babies of smoking mothers and head circumference for babies of non-smoking mothers?\n",
    "\n",
    "Yes, there is homogeneity of variance.\n",
    "\n",
    "### Q19. Justify your choice.\n",
    "\n",
    "We conducted Levene’s test for homogeneity of variance between the two groups (babies of smoking mothers and babies of non-smoking mothers). The p-value from Levene’s test is **0.433**, which is greater than the common significance threshold of 0.05. This means we fail to reject the null hypothesis of equal variances, indicating that the variances in head circumference for both groups are not significantly different. Thus, we can assume homogeneity of variance."
   ]
  },
  {
   "cell_type": "code",
   "execution_count": 9,
   "metadata": {},
   "outputs": [
    {
     "name": "stdout",
     "output_type": "stream",
     "text": [
      "0.6278514921937131 0.4328189702719909\n"
     ]
    }
   ],
   "source": [
    "from scipy.stats import levene\n",
    "\n",
    "# Extracting the relevant columns: head circumference and smoking status\n",
    "head_circumference = df['Headcirc']\n",
    "smoking_status = df['smoker']\n",
    "\n",
    "# Separate the data into two groups: smokers and non-smokers\n",
    "headcirc_smokers = head_circumference[smoking_status == 1]\n",
    "headcirc_non_smokers = head_circumference[smoking_status == 0]\n",
    "\n",
    "# Perform Levene's test for homogeneity of variance\n",
    "levene_stat, levene_p_value = levene(headcirc_smokers, headcirc_non_smokers)\n",
    "\n",
    "print(levene_stat, levene_p_value)"
   ]
  },
  {
   "cell_type": "markdown",
   "metadata": {},
   "source": [
    "### Q20. Do smokers have lighter babies? Justify your answer.\n",
    "\n",
    "Yes, smokers tend to have lighter babies.\n",
    "\n",
    "- The average birth weight for babies of smoking mothers is **3.13 kg**, while the average for babies of non-smoking mothers is **3.51 kg**.\n",
    "- We performed an independent t-test to compare the means of the two groups. The p-value from the t-test is **0.043**, which is less than the common significance threshold of 0.05. This means that the difference in birth weights between the two groups is statistically significant.\n",
    "- Based on this analysis, we can conclude that **babies born to smoking mothers tend to weigh significantly less** than those born to non-smoking mothers."
   ]
  },
  {
   "cell_type": "code",
   "execution_count": 11,
   "metadata": {},
   "outputs": [
    {
     "data": {
      "text/plain": [
       "(np.float64(3.1340909090909093),\n",
       " np.float64(3.5095000000000005),\n",
       " np.float64(-2.093431541991207),\n",
       " np.float64(0.042696246545593654))"
      ]
     },
     "execution_count": 11,
     "metadata": {},
     "output_type": "execute_result"
    }
   ],
   "source": [
    "from scipy.stats import ttest_ind\n",
    "\n",
    "# Smoking status and birthweight\n",
    "smoking_status = df['smoker']\n",
    "birthweight = df['Birthweight']\n",
    "\n",
    "# Separate the birthweight data into two groups: smokers and non-smokers\n",
    "birthweight_smokers = birthweight[smoking_status == 1]\n",
    "birthweight_non_smokers = birthweight[smoking_status == 0]\n",
    "\n",
    "# Perform an independent t-test to compare the means of the two groups\n",
    "t_stat, p_value = ttest_ind(birthweight_smokers, birthweight_non_smokers)\n",
    "\n",
    "# Display the mean birthweights for smokers and non-smokers, and the t-test results\n",
    "birthweight_smokers.mean(), birthweight_non_smokers.mean(), t_stat, p_value"
   ]
  },
  {
   "cell_type": "markdown",
   "metadata": {},
   "source": [
    "### Q21. Do women over 35 have lighter babies? Justify your answer.\n",
    "\n",
    "No, there is no statistically significant difference in the birth weights of babies born to women over 35 compared to those 35 or younger.\n",
    "\n",
    "- The average birth weight for babies born to mothers over 35 is **3.11 kg**, while the average for babies born to mothers 35 or younger is **3.33 kg**.\n",
    "- We performed an independent t-test, and the p-value is **0.492**, which is much greater than the common significance threshold of 0.05. This means that the difference in birth weights between the two groups is **not statistically significant**.\n",
    "- Based on this analysis, we cannot conclude that women over 35 have lighter babies."
   ]
  },
  {
   "cell_type": "code",
   "execution_count": 12,
   "metadata": {},
   "outputs": [
    {
     "data": {
      "text/plain": [
       "(np.float64(3.1125),\n",
       " np.float64(3.333947368421053),\n",
       " np.float64(-0.6931657795371529),\n",
       " np.float64(0.49221096112507623))"
      ]
     },
     "execution_count": 12,
     "metadata": {},
     "output_type": "execute_result"
    }
   ],
   "source": [
    "# Extracting the mother's age group (over 35 or not) and birthweight columns\n",
    "mage35 = df['mage35']  # 1 if over 35, 0 otherwise\n",
    "birthweight = df['Birthweight']\n",
    "\n",
    "# Separate the birthweight data into two groups: mothers over 35 and mothers 35 or younger\n",
    "birthweight_over_35 = birthweight[mage35 == 1]\n",
    "birthweight_35_or_younger = birthweight[mage35 == 0]\n",
    "\n",
    "# Perform an independent t-test to compare the means of the two groups\n",
    "t_stat, p_value = ttest_ind(birthweight_over_35, birthweight_35_or_younger)\n",
    "\n",
    "# Display the mean birthweights for both groups, and the t-test results\n",
    "birthweight_over_35.mean(), birthweight_35_or_younger.mean(), t_stat, p_value"
   ]
  },
  {
   "cell_type": "markdown",
   "metadata": {},
   "source": [
    "### Q22. Using the cholesterol dataset, was the diet effective in lowering cholesterol concentration after 8 weeks of use? Justify your answer.\n",
    "\n",
    "Yes, the diet was effective in lowering cholesterol concentration after 8 weeks of use.\n",
    "\n",
    "- The average cholesterol concentration before the diet was **6.41**, while after 8 weeks it was **5.78**.\n",
    "- We performed a paired t-test, and the p-value is **3.28e-11**, which is far less than the common significance threshold of 0.05. This means that the reduction in cholesterol levels after 8 weeks is statistically significant.\n",
    "- Based on this analysis, we can conclude that the diet led to a significant reduction in cholesterol concentration."
   ]
  },
  {
   "cell_type": "code",
   "execution_count": 15,
   "metadata": {},
   "outputs": [
    {
     "data": {
      "text/plain": [
       "(np.float64(6.407777777777778),\n",
       " np.float64(5.77888888888889),\n",
       " np.float64(14.945967764585072),\n",
       " np.float64(3.27857534017563e-11))"
      ]
     },
     "execution_count": 15,
     "metadata": {},
     "output_type": "execute_result"
    }
   ],
   "source": [
    "from scipy.stats import ttest_rel\n",
    "\n",
    "# Load the dataset\n",
    "cholesterol_file_path = 'Cholesterol_R.csv'\n",
    "cholesterol_df = pd.read_csv(cholesterol_file_path)\n",
    "\n",
    "# Extracting the 'Before' and 'After8weeks' cholesterol levels\n",
    "before_cholesterol = cholesterol_df['Before']\n",
    "after_8weeks_cholesterol = cholesterol_df['After8weeks']\n",
    "\n",
    "# Perform a paired t-test to compare cholesterol levels before and after 8 weeks\n",
    "t_stat, p_value = ttest_rel(before_cholesterol, after_8weeks_cholesterol)\n",
    "\n",
    "# Display the results\n",
    "before_cholesterol.mean(), after_8weeks_cholesterol.mean(), t_stat, p_value"
   ]
  },
  {
   "cell_type": "markdown",
   "metadata": {},
   "source": [
    "### Q23. For the above case, what is the null and alternative hypothesis?\n",
    "\n",
    "- **Null Hypothesis (H₀)**: The diet has **no effect** on cholesterol concentration after 8 weeks. In other words, the mean cholesterol level before the diet is equal to the mean cholesterol level after 8 weeks of the diet.\n",
    "  \n",
    "  $$\n",
    "  H₀: \\mu_{\\text{before}} = \\mu_{\\text{after 8 weeks}}\n",
    "  $$\n",
    "\n",
    "- **Alternative Hypothesis (H₁)**: The diet has a **significant effect** on lowering cholesterol concentration after 8 weeks. In other words, the mean cholesterol level before the diet is greater than the mean cholesterol level after 8 weeks of the diet.\n",
    "  \n",
    "  $$\n",
    "  H₁: \\mu_{\\text{before}} > \\mu_{\\text{after 8 weeks}}\n",
    "  $$\n",
    "\n",
    "This is a **one-sided (directional)** hypothesis, as we are specifically testing whether the cholesterol concentration decreases after the diet."
   ]
  },
  {
   "cell_type": "markdown",
   "metadata": {},
   "source": [
    "### Q24. Was the diet more effective in the first 4 weeks of use or the last 4 weeks of use? Justify your answer.\n",
    "\n",
    "The diet was more effective in the first 4 weeks of use compared to the last 4 weeks.\n",
    "\n",
    "- The average cholesterol concentration after the first 4 weeks was **5.84**, and after 8 weeks, it was **5.78**.\n",
    "- The reduction in cholesterol levels between 4 and 8 weeks is statistically significant, as the p-value is **0.0015**. However, the magnitude of reduction from **before** to **after 4 weeks** was larger than from **4 weeks** to **8 weeks**.\n",
    "- The diet led to a significant drop in cholesterol during both periods, but the greater reduction happened in the **first 4 weeks**."
   ]
  },
  {
   "cell_type": "code",
   "execution_count": 16,
   "metadata": {},
   "outputs": [
    {
     "data": {
      "text/plain": [
       "(np.float64(5.841666666666666),\n",
       " np.float64(5.77888888888889),\n",
       " np.float64(3.78090274293469),\n",
       " np.float64(0.0014914189618696685))"
      ]
     },
     "execution_count": 16,
     "metadata": {},
     "output_type": "execute_result"
    }
   ],
   "source": [
    "# Extracting the 'After4weeks' and 'After8weeks' cholesterol levels\n",
    "after_4weeks_cholesterol = cholesterol_df['After4weeks']\n",
    "after_8weeks_cholesterol = cholesterol_df['After8weeks']\n",
    "\n",
    "# Perform a paired t-test to compare cholesterol levels after 4 weeks and after 8 weeks\n",
    "t_stat_4to8, p_value_4to8 = ttest_rel(after_4weeks_cholesterol, after_8weeks_cholesterol)\n",
    "\n",
    "# Display the results\n",
    "after_4weeks_cholesterol.mean(), after_8weeks_cholesterol.mean(), t_stat_4to8, p_value_4to8"
   ]
  },
  {
   "cell_type": "markdown",
   "metadata": {},
   "source": [
    "### Q25. If you know that the average cholesterol concentration in healthy adults is 3 mmol/L, would you consider your sample (N=18) significantly better or worse than the average adult population? Justify your answer.\n",
    "\n",
    "The sample’s cholesterol concentration is significantly worse than the average cholesterol concentration of healthy adults.\n",
    "\n",
    "- The average cholesterol concentration after 8 weeks in the sample is **5.78 mmol/L**, which is much higher than the healthy adult population average of **3 mmol/L**.\n",
    "- A one-sample t-test was performed, and the p-value is **5.70e-09**, which is far below the common significance threshold of 0.05. This indicates that the difference between the sample’s mean cholesterol concentration and the population mean is statistically significant.\n",
    "- Based on this analysis, the sample has a significantly higher cholesterol concentration compared to the average healthy adult population."
   ]
  },
  {
   "cell_type": "code",
   "execution_count": 17,
   "metadata": {},
   "outputs": [
    {
     "data": {
      "text/plain": [
       "(np.float64(5.77888888888889),\n",
       " np.float64(10.69942528478202),\n",
       " np.float64(5.696836608393918e-09))"
      ]
     },
     "execution_count": 17,
     "metadata": {},
     "output_type": "execute_result"
    }
   ],
   "source": [
    "from scipy.stats import ttest_1samp\n",
    "\n",
    "# Define the population mean (cholesterol concentration of healthy adults)\n",
    "population_mean = 3\n",
    "\n",
    "# Perform a one-sample t-test comparing the sample's 8-week cholesterol levels to the population mean\n",
    "t_stat_onesample, p_value_onesample = ttest_1samp(after_8weeks_cholesterol, population_mean)\n",
    "\n",
    "# Display the mean cholesterol after 8 weeks, and the one-sample t-test results\n",
    "after_8weeks_cholesterol.mean(), t_stat_onesample, p_value_onesample"
   ]
  }
 ],
 "metadata": {
  "kernelspec": {
   "display_name": ".venv",
   "language": "python",
   "name": "python3"
  },
  "language_info": {
   "codemirror_mode": {
    "name": "ipython",
    "version": 3
   },
   "file_extension": ".py",
   "mimetype": "text/x-python",
   "name": "python",
   "nbconvert_exporter": "python",
   "pygments_lexer": "ipython3",
   "version": "3.12.5"
  }
 },
 "nbformat": 4,
 "nbformat_minor": 2
}
